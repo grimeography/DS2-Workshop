{
 "cells": [
  {
   "cell_type": "markdown",
   "id": "3d970827-50ef-4af0-8b98-70147c14f8bd",
   "metadata": {
    "jp-MarkdownHeadingCollapsed": true,
    "tags": []
   },
   "source": [
    " # Variable Discussion\n",
    " \n",
    " The below cells are demonstrations of the use of variables. We demonstrated the following types of variables:\n",
    " \n",
    " * int\n",
    " * floats\n",
    " * strings\n",
    " * lists\n",
    " * tuples\n",
    " \n",
    " Next we want to talk about a few other thing:\n",
    " \n",
    " 1. functions\n",
    " 2. iterables\n",
    " 3. loops\n",
    " "
   ]
  },
  {
   "cell_type": "code",
   "execution_count": 3,
   "id": "2b55cf72-1d9c-4102-841e-27f861ce863b",
   "metadata": {},
   "outputs": [
    {
     "name": "stdout",
     "output_type": "stream",
     "text": [
      "Hello, world!\n"
     ]
    }
   ],
   "source": [
    "print(\"Hello, world!\")\n"
   ]
  },
  {
   "cell_type": "code",
   "execution_count": 4,
   "id": "b1824dcf-2d96-4c1e-9e01-00d0dd8c1b3f",
   "metadata": {},
   "outputs": [],
   "source": [
    "my_variable1 = 2"
   ]
  },
  {
   "cell_type": "code",
   "execution_count": 5,
   "id": "6bbf1897-6873-499c-91e4-f7a620265e4e",
   "metadata": {},
   "outputs": [
    {
     "name": "stdout",
     "output_type": "stream",
     "text": [
      "2\n"
     ]
    }
   ],
   "source": [
    "print(my_variable1)"
   ]
  },
  {
   "cell_type": "code",
   "execution_count": 7,
   "id": "5da40067-1342-4ffd-ae3d-7500f73ff8c6",
   "metadata": {},
   "outputs": [],
   "source": [
    "hello_string = \"Hello, World!\""
   ]
  },
  {
   "cell_type": "code",
   "execution_count": 8,
   "id": "e6b16893-dee7-47a5-8cbd-be483205dc9f",
   "metadata": {},
   "outputs": [
    {
     "name": "stdout",
     "output_type": "stream",
     "text": [
      "Hello, World!\n"
     ]
    }
   ],
   "source": [
    "print(hello_string)"
   ]
  },
  {
   "cell_type": "code",
   "execution_count": 9,
   "id": "f1ad48b9-b753-414b-8480-c925ff154ad5",
   "metadata": {},
   "outputs": [
    {
     "data": {
      "text/plain": [
       "int"
      ]
     },
     "execution_count": 9,
     "metadata": {},
     "output_type": "execute_result"
    }
   ],
   "source": [
    "type(my_variable1)\n"
   ]
  },
  {
   "cell_type": "code",
   "execution_count": 10,
   "id": "c655b870-1029-4eb3-8e20-4e8ba762329d",
   "metadata": {},
   "outputs": [
    {
     "name": "stdout",
     "output_type": "stream",
     "text": [
      "my_variable1\n"
     ]
    }
   ],
   "source": [
    "print(\"my_variable1\")"
   ]
  },
  {
   "cell_type": "code",
   "execution_count": 15,
   "id": "9018bfba-66de-4685-853e-4b9b985e6510",
   "metadata": {},
   "outputs": [],
   "source": [
    "my_list = [2.0,1,'abc','2']"
   ]
  },
  {
   "cell_type": "code",
   "execution_count": 13,
   "id": "76627efb-93a8-41c4-8fad-3f73df9c58eb",
   "metadata": {},
   "outputs": [
    {
     "data": {
      "text/plain": [
       "float"
      ]
     },
     "execution_count": 13,
     "metadata": {},
     "output_type": "execute_result"
    }
   ],
   "source": [
    "type(my_list[0])"
   ]
  },
  {
   "cell_type": "code",
   "execution_count": 16,
   "id": "eb2509c3-3207-42be-b8b5-50407c8af6f0",
   "metadata": {},
   "outputs": [
    {
     "data": {
      "text/plain": [
       "list"
      ]
     },
     "execution_count": 16,
     "metadata": {},
     "output_type": "execute_result"
    }
   ],
   "source": [
    "type(my_list)\n"
   ]
  },
  {
   "cell_type": "code",
   "execution_count": 17,
   "id": "0229d929-75ca-4788-8597-c05463c8c070",
   "metadata": {},
   "outputs": [],
   "source": [
    "my_tuple = (2.0,1,'abc','2')"
   ]
  },
  {
   "cell_type": "code",
   "execution_count": 18,
   "id": "af6a64f3-712d-49dd-8553-a971f46cbb76",
   "metadata": {},
   "outputs": [
    {
     "data": {
      "text/plain": [
       "False"
      ]
     },
     "execution_count": 18,
     "metadata": {},
     "output_type": "execute_result"
    }
   ],
   "source": [
    "my_tuple == my_list\n"
   ]
  },
  {
   "cell_type": "markdown",
   "id": "8a2bf101-965f-41f7-bc74-f2febcb43a48",
   "metadata": {
    "jp-MarkdownHeadingCollapsed": true,
    "tags": []
   },
   "source": [
    "# Function Discussion\n",
    "\n",
    "Here in this section we will demonstrate the use of functions.\n"
   ]
  },
  {
   "cell_type": "code",
   "execution_count": null,
   "id": "661f4546-2f87-4933-951f-bfa5f13c5e1f",
   "metadata": {},
   "outputs": [],
   "source": [
    "==, >, >=, <= <"
   ]
  },
  {
   "cell_type": "code",
   "execution_count": 23,
   "id": "6c9c78ce-0bc6-4822-a830-00d02cfb7ce1",
   "metadata": {},
   "outputs": [],
   "source": [
    "# here we are going to write a (reusable) function that takes two numbers\n",
    "# and checks whether or not they are equal to eachother \n",
    "# within some precision\n",
    "\n",
    "def check_equal(num1, num2, precision):\n",
    "    \n",
    "    abs_difference = abs(num1 - num2)\n",
    "    is_equal = abs_difference <= precision \n",
    "    \n",
    "    return is_equal"
   ]
  },
  {
   "cell_type": "code",
   "execution_count": 21,
   "id": "2ba47d5c-5dd8-4c7f-962c-f9977a67825d",
   "metadata": {},
   "outputs": [
    {
     "data": {
      "text/plain": [
       "False"
      ]
     },
     "execution_count": 21,
     "metadata": {},
     "output_type": "execute_result"
    }
   ],
   "source": [
    "# calling the function\n",
    "\n",
    "check_equal(2.0,2.1,0.001)"
   ]
  },
  {
   "cell_type": "code",
   "execution_count": 22,
   "id": "591cf9d3-47ba-453b-a945-5e1fa10f3078",
   "metadata": {},
   "outputs": [
    {
     "data": {
      "text/plain": [
       "True"
      ]
     },
     "execution_count": 22,
     "metadata": {},
     "output_type": "execute_result"
    }
   ],
   "source": [
    "check_equal(2.0,2.1,0.5)"
   ]
  },
  {
   "cell_type": "markdown",
   "id": "2ec45094-d818-48f9-b223-8e31b557872d",
   "metadata": {
    "jp-MarkdownHeadingCollapsed": true,
    "tags": []
   },
   "source": [
    "# Imports Discussion \n",
    "\n",
    "Here we will demonstrate the benefit of importing other libraries. \n",
    "The libraries we will discuss are:\n",
    "\n",
    "* numpy\n",
    "* sis\n",
    "\n"
   ]
  },
  {
   "cell_type": "code",
   "execution_count": 24,
   "id": "1a6a4930-d133-4bb4-94f3-ab8350b88a7e",
   "metadata": {},
   "outputs": [],
   "source": [
    "# importing numpy\n",
    "\n",
    "import numpy"
   ]
  },
  {
   "cell_type": "code",
   "execution_count": 26,
   "id": "f6c2b62f-414e-42fc-bb2e-8681835eadfd",
   "metadata": {},
   "outputs": [
    {
     "data": {
      "text/plain": [
       "True"
      ]
     },
     "execution_count": 26,
     "metadata": {},
     "output_type": "execute_result"
    }
   ],
   "source": [
    "numpy .isclose(2.0,2.1,rtol=0.3)\n"
   ]
  },
  {
   "cell_type": "code",
   "execution_count": 28,
   "id": "0fbeaae9-3091-44b0-acbe-3722b4da63ec",
   "metadata": {},
   "outputs": [
    {
     "data": {
      "text/plain": [
       "True"
      ]
     },
     "execution_count": 28,
     "metadata": {},
     "output_type": "execute_result"
    }
   ],
   "source": [
    "# shorthand for importing numpy\n",
    "\n",
    "import numpy as np\n",
    "\n",
    "np.isclose(2.0,2.1,rtol=0.3)"
   ]
  },
  {
   "cell_type": "code",
   "execution_count": 32,
   "id": "0853153e-aaf2-47ad-b89f-f70a02de384d",
   "metadata": {},
   "outputs": [],
   "source": [
    "# Here I'm going to try importing my new utils file contents:\n",
    "\n",
    "import utils\n",
    "import utils as ut\n",
    "from utils import check_equal"
   ]
  },
  {
   "cell_type": "code",
   "execution_count": 30,
   "id": "177a17bf-f0ba-4f6e-b0ed-0460d1474c5a",
   "metadata": {},
   "outputs": [
    {
     "name": "stdout",
     "output_type": "stream",
     "text": [
      "False\n",
      "False\n",
      "False\n"
     ]
    }
   ],
   "source": [
    "print(ut.check_equal(2.0,2.1,0.1))\n",
    "print(utils.check_equal(2.0,2.1,0.1))\n",
    "print(check_equal(2.0,2.1,0.1))\n",
    "    "
   ]
  },
  {
   "cell_type": "markdown",
   "id": "72c2a8de-70cf-4920-99d1-c68aa53f5f46",
   "metadata": {
    "jp-MarkdownHeadingCollapsed": true,
    "tags": []
   },
   "source": [
    "# Iterables and Loops / Looping Discussion\n",
    "\n",
    "Here we're going to cover the almighty for-loop"
   ]
  },
  {
   "cell_type": "code",
   "execution_count": 33,
   "id": "a61f590d-3e4a-422b-8c70-ae42d2fe8c82",
   "metadata": {},
   "outputs": [
    {
     "data": {
      "text/plain": [
       "28"
      ]
     },
     "execution_count": 33,
     "metadata": {},
     "output_type": "execute_result"
    }
   ],
   "source": [
    "my_list = [1,2,3,4,5,6,7]\n",
    "sum(my_list)\n",
    "\n"
   ]
  },
  {
   "cell_type": "code",
   "execution_count": 34,
   "id": "d2129e9c-9273-4480-8dce-9d7c08ce0efb",
   "metadata": {},
   "outputs": [
    {
     "name": "stdout",
     "output_type": "stream",
     "text": [
      "0\n",
      "1\n",
      "3\n",
      "6\n",
      "10\n",
      "15\n",
      "21\n",
      "28\n",
      "7\n"
     ]
    }
   ],
   "source": [
    "my_list = [1,2,3,4,5,6,7]\n",
    "\n",
    "total_sum = 0\n",
    "\n",
    "for elem in my_list:\n",
    "    print(total_sum)\n",
    "    total_sum = total_sum + elem\n",
    "    \n",
    "print(total_sum)\n",
    "\n",
    "print(elem)"
   ]
  },
  {
   "cell_type": "code",
   "execution_count": null,
   "id": "fc9a589d-81e9-418f-9bc0-572438d50692",
   "metadata": {},
   "outputs": [],
   "source": []
  }
 ],
 "metadata": {
  "kernelspec": {
   "display_name": "Python 3 (ipykernel)",
   "language": "python",
   "name": "python3"
  },
  "language_info": {
   "codemirror_mode": {
    "name": "ipython",
    "version": 3
   },
   "file_extension": ".py",
   "mimetype": "text/x-python",
   "name": "python",
   "nbconvert_exporter": "python",
   "pygments_lexer": "ipython3",
   "version": "3.10.8"
  }
 },
 "nbformat": 4,
 "nbformat_minor": 5
}
